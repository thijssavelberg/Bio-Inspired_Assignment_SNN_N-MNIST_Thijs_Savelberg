{
  "cells": [
    {
      "cell_type": "markdown",
      "metadata": {
        "id": "view-in-github",
        "colab_type": "text"
      },
      "source": [
        "<a href=\"https://colab.research.google.com/github/thijssavelberg/Bio-Inspired_Assignment_SNN_N-MNIST_Thijs_Savelberg/blob/main/Assignment_SNN.ipynb\" target=\"_parent\"><img src=\"https://colab.research.google.com/assets/colab-badge.svg\" alt=\"Open In Colab\"/></a>"
      ]
    },
    {
      "cell_type": "markdown",
      "source": [
        "Assignment for the course AE4350:Bio-Inspired Intelligence and Learning for Aerospace Applications by Thijs Savelberg.\n",
        "\n",
        "This code and the mathematics used in this code are inspired by and based on earlier work of the following authors/researchers:\n",
        "\n",
        "- W. F. Yaoyu Zhu Zhaofei Yu\n",
        "- D. Goodman\n",
        "- J. Eshraghian\n",
        "- Z. M. Yufei Guo Xuhui Huang\n",
        "- J. C.-R. Kai Malcom\n",
        "- W. Maas\n",
        "\n",
        "The N-MNIST dataset used in this assignment was obtained from TONIC."
      ],
      "metadata": {
        "id": "xDHaq0EfwIG6"
      }
    },
    {
      "cell_type": "markdown",
      "metadata": {
        "id": "1WDfSW4eLTAC"
      },
      "source": [
        "Installation of Tonic, SnnTorch and reinstallation of Thinc to Slove dependency conflict"
      ]
    },
    {
      "cell_type": "code",
      "execution_count": null,
      "metadata": {
        "colab": {
          "base_uri": "https://localhost:8080/",
          "height": 1000
        },
        "id": "7bOQhfu_Hzml",
        "outputId": "9654ce55-c12a-4053-85e0-09305035453b"
      },
      "outputs": [
        {
          "name": "stdout",
          "output_type": "stream",
          "text": [
            "\u001b[31mERROR: pip's dependency resolver does not currently take into account all the packages that are installed. This behaviour is the source of the following dependency conflicts.\n",
            "blis 1.0.2 requires numpy<3.0.0,>=2.0.0, but you have numpy 1.26.4 which is incompatible.\n",
            "thinc 9.1.1 requires numpy<3.0.0,>=2.0.0, but you have numpy 1.26.4 which is incompatible.\n",
            "spacy 3.8.5 requires thinc<8.4.0,>=8.3.4, but you have thinc 9.1.1 which is incompatible.\u001b[0m\u001b[31m\n",
            "\u001b[0mCollecting thinc\n",
            "  Using cached thinc-9.1.1-cp311-cp311-manylinux_2_17_x86_64.manylinux2014_x86_64.whl.metadata (14 kB)\n",
            "Collecting numpy\n",
            "  Using cached numpy-2.2.5-cp311-cp311-manylinux_2_17_x86_64.manylinux2014_x86_64.whl.metadata (62 kB)\n",
            "Collecting blis<1.1.0,>=1.0.0 (from thinc)\n",
            "  Using cached blis-1.0.2-cp311-cp311-manylinux_2_17_x86_64.manylinux2014_x86_64.whl.metadata (7.6 kB)\n",
            "Collecting murmurhash<1.1.0,>=1.0.2 (from thinc)\n",
            "  Using cached murmurhash-1.0.12-cp311-cp311-manylinux_2_5_x86_64.manylinux1_x86_64.manylinux_2_17_x86_64.manylinux2014_x86_64.whl.metadata (2.1 kB)\n",
            "Collecting cymem<2.1.0,>=2.0.2 (from thinc)\n",
            "  Using cached cymem-2.0.11-cp311-cp311-manylinux_2_17_x86_64.manylinux2014_x86_64.whl.metadata (8.5 kB)\n",
            "Collecting preshed<3.1.0,>=3.0.2 (from thinc)\n",
            "  Using cached preshed-3.0.9-cp311-cp311-manylinux_2_5_x86_64.manylinux1_x86_64.manylinux_2_17_x86_64.manylinux2014_x86_64.whl.metadata (2.2 kB)\n",
            "Collecting wasabi<1.2.0,>=0.8.1 (from thinc)\n",
            "  Using cached wasabi-1.1.3-py3-none-any.whl.metadata (28 kB)\n",
            "Collecting srsly<3.0.0,>=2.4.0 (from thinc)\n",
            "  Using cached srsly-2.5.1-cp311-cp311-manylinux_2_17_x86_64.manylinux2014_x86_64.whl.metadata (19 kB)\n",
            "Collecting catalogue<2.1.0,>=2.0.4 (from thinc)\n",
            "  Using cached catalogue-2.0.10-py3-none-any.whl.metadata (14 kB)\n",
            "Collecting confection<1.0.0,>=0.0.1 (from thinc)\n",
            "  Using cached confection-0.1.5-py3-none-any.whl.metadata (19 kB)\n",
            "Collecting setuptools (from thinc)\n",
            "  Using cached setuptools-80.4.0-py3-none-any.whl.metadata (6.5 kB)\n",
            "Collecting pydantic!=1.8,!=1.8.1,<3.0.0,>=1.7.4 (from thinc)\n",
            "  Using cached pydantic-2.11.4-py3-none-any.whl.metadata (66 kB)\n",
            "Collecting packaging>=20.0 (from thinc)\n",
            "  Using cached packaging-25.0-py3-none-any.whl.metadata (3.3 kB)\n",
            "Collecting annotated-types>=0.6.0 (from pydantic!=1.8,!=1.8.1,<3.0.0,>=1.7.4->thinc)\n",
            "  Using cached annotated_types-0.7.0-py3-none-any.whl.metadata (15 kB)\n",
            "Collecting pydantic-core==2.33.2 (from pydantic!=1.8,!=1.8.1,<3.0.0,>=1.7.4->thinc)\n",
            "  Using cached pydantic_core-2.33.2-cp311-cp311-manylinux_2_17_x86_64.manylinux2014_x86_64.whl.metadata (6.8 kB)\n",
            "Collecting typing-extensions>=4.12.2 (from pydantic!=1.8,!=1.8.1,<3.0.0,>=1.7.4->thinc)\n",
            "  Using cached typing_extensions-4.13.2-py3-none-any.whl.metadata (3.0 kB)\n",
            "Collecting typing-inspection>=0.4.0 (from pydantic!=1.8,!=1.8.1,<3.0.0,>=1.7.4->thinc)\n",
            "  Using cached typing_inspection-0.4.0-py3-none-any.whl.metadata (2.6 kB)\n",
            "Using cached thinc-9.1.1-cp311-cp311-manylinux_2_17_x86_64.manylinux2014_x86_64.whl (3.4 MB)\n",
            "Using cached numpy-2.2.5-cp311-cp311-manylinux_2_17_x86_64.manylinux2014_x86_64.whl (16.4 MB)\n",
            "Using cached blis-1.0.2-cp311-cp311-manylinux_2_17_x86_64.manylinux2014_x86_64.whl (9.3 MB)\n",
            "Using cached catalogue-2.0.10-py3-none-any.whl (17 kB)\n",
            "Using cached confection-0.1.5-py3-none-any.whl (35 kB)\n",
            "Using cached cymem-2.0.11-cp311-cp311-manylinux_2_17_x86_64.manylinux2014_x86_64.whl (218 kB)\n",
            "Using cached murmurhash-1.0.12-cp311-cp311-manylinux_2_5_x86_64.manylinux1_x86_64.manylinux_2_17_x86_64.manylinux2014_x86_64.whl (134 kB)\n",
            "Using cached packaging-25.0-py3-none-any.whl (66 kB)\n",
            "Using cached preshed-3.0.9-cp311-cp311-manylinux_2_5_x86_64.manylinux1_x86_64.manylinux_2_17_x86_64.manylinux2014_x86_64.whl (157 kB)\n",
            "Using cached pydantic-2.11.4-py3-none-any.whl (443 kB)\n",
            "Using cached pydantic_core-2.33.2-cp311-cp311-manylinux_2_17_x86_64.manylinux2014_x86_64.whl (2.0 MB)\n",
            "Using cached srsly-2.5.1-cp311-cp311-manylinux_2_17_x86_64.manylinux2014_x86_64.whl (1.1 MB)\n",
            "Using cached wasabi-1.1.3-py3-none-any.whl (27 kB)\n",
            "Using cached setuptools-80.4.0-py3-none-any.whl (1.2 MB)\n",
            "Using cached annotated_types-0.7.0-py3-none-any.whl (13 kB)\n",
            "Using cached typing_extensions-4.13.2-py3-none-any.whl (45 kB)\n",
            "Using cached typing_inspection-0.4.0-py3-none-any.whl (14 kB)\n",
            "Installing collected packages: cymem, wasabi, typing-extensions, setuptools, packaging, numpy, murmurhash, catalogue, annotated-types, typing-inspection, srsly, pydantic-core, preshed, blis, pydantic, confection, thinc\n",
            "  Attempting uninstall: cymem\n",
            "    Found existing installation: cymem 2.0.11\n",
            "    Uninstalling cymem-2.0.11:\n",
            "      Successfully uninstalled cymem-2.0.11\n",
            "  Attempting uninstall: wasabi\n",
            "    Found existing installation: wasabi 1.1.3\n",
            "    Uninstalling wasabi-1.1.3:\n",
            "      Successfully uninstalled wasabi-1.1.3\n",
            "  Attempting uninstall: typing-extensions\n",
            "    Found existing installation: typing_extensions 4.13.2\n",
            "    Uninstalling typing_extensions-4.13.2:\n",
            "      Successfully uninstalled typing_extensions-4.13.2\n",
            "  Attempting uninstall: setuptools\n",
            "    Found existing installation: setuptools 80.4.0\n",
            "    Uninstalling setuptools-80.4.0:\n",
            "      Successfully uninstalled setuptools-80.4.0\n",
            "  Attempting uninstall: packaging\n",
            "    Found existing installation: packaging 25.0\n",
            "    Uninstalling packaging-25.0:\n",
            "      Successfully uninstalled packaging-25.0\n",
            "  Attempting uninstall: numpy\n",
            "    Found existing installation: numpy 1.26.4\n",
            "    Uninstalling numpy-1.26.4:\n",
            "      Successfully uninstalled numpy-1.26.4\n",
            "  Attempting uninstall: murmurhash\n",
            "    Found existing installation: murmurhash 1.0.12\n",
            "    Uninstalling murmurhash-1.0.12:\n",
            "      Successfully uninstalled murmurhash-1.0.12\n",
            "  Attempting uninstall: catalogue\n",
            "    Found existing installation: catalogue 2.0.10\n",
            "    Uninstalling catalogue-2.0.10:\n",
            "      Successfully uninstalled catalogue-2.0.10\n",
            "  Attempting uninstall: annotated-types\n",
            "    Found existing installation: annotated-types 0.7.0\n",
            "    Uninstalling annotated-types-0.7.0:\n",
            "      Successfully uninstalled annotated-types-0.7.0\n",
            "  Attempting uninstall: typing-inspection\n",
            "    Found existing installation: typing-inspection 0.4.0\n",
            "    Uninstalling typing-inspection-0.4.0:\n",
            "      Successfully uninstalled typing-inspection-0.4.0\n",
            "  Attempting uninstall: srsly\n",
            "    Found existing installation: srsly 2.5.1\n",
            "    Uninstalling srsly-2.5.1:\n",
            "      Successfully uninstalled srsly-2.5.1\n",
            "  Attempting uninstall: pydantic-core\n",
            "    Found existing installation: pydantic_core 2.33.2\n",
            "    Uninstalling pydantic_core-2.33.2:\n",
            "      Successfully uninstalled pydantic_core-2.33.2\n",
            "  Attempting uninstall: preshed\n",
            "    Found existing installation: preshed 3.0.9\n",
            "    Uninstalling preshed-3.0.9:\n",
            "      Successfully uninstalled preshed-3.0.9\n",
            "  Attempting uninstall: blis\n",
            "    Found existing installation: blis 1.0.2\n",
            "    Uninstalling blis-1.0.2:\n",
            "      Successfully uninstalled blis-1.0.2\n",
            "  Attempting uninstall: pydantic\n",
            "    Found existing installation: pydantic 2.11.4\n",
            "    Uninstalling pydantic-2.11.4:\n",
            "      Successfully uninstalled pydantic-2.11.4\n",
            "  Attempting uninstall: confection\n",
            "    Found existing installation: confection 0.1.5\n",
            "    Uninstalling confection-0.1.5:\n",
            "      Successfully uninstalled confection-0.1.5\n",
            "  Attempting uninstall: thinc\n",
            "    Found existing installation: thinc 9.1.1\n",
            "    Uninstalling thinc-9.1.1:\n",
            "      Successfully uninstalled thinc-9.1.1\n",
            "\u001b[31mERROR: pip's dependency resolver does not currently take into account all the packages that are installed. This behaviour is the source of the following dependency conflicts.\n",
            "ipython 7.34.0 requires jedi>=0.16, which is not installed.\n",
            "tonic 1.6.0 requires numpy<2.0.0, but you have numpy 2.2.5 which is incompatible.\n",
            "torch 2.6.0+cu124 requires nvidia-cublas-cu12==12.4.5.8; platform_system == \"Linux\" and platform_machine == \"x86_64\", but you have nvidia-cublas-cu12 12.5.3.2 which is incompatible.\n",
            "torch 2.6.0+cu124 requires nvidia-cuda-cupti-cu12==12.4.127; platform_system == \"Linux\" and platform_machine == \"x86_64\", but you have nvidia-cuda-cupti-cu12 12.5.82 which is incompatible.\n",
            "torch 2.6.0+cu124 requires nvidia-cuda-nvrtc-cu12==12.4.127; platform_system == \"Linux\" and platform_machine == \"x86_64\", but you have nvidia-cuda-nvrtc-cu12 12.5.82 which is incompatible.\n",
            "torch 2.6.0+cu124 requires nvidia-cuda-runtime-cu12==12.4.127; platform_system == \"Linux\" and platform_machine == \"x86_64\", but you have nvidia-cuda-runtime-cu12 12.5.82 which is incompatible.\n",
            "torch 2.6.0+cu124 requires nvidia-cudnn-cu12==9.1.0.70; platform_system == \"Linux\" and platform_machine == \"x86_64\", but you have nvidia-cudnn-cu12 9.3.0.75 which is incompatible.\n",
            "torch 2.6.0+cu124 requires nvidia-cufft-cu12==11.2.1.3; platform_system == \"Linux\" and platform_machine == \"x86_64\", but you have nvidia-cufft-cu12 11.2.3.61 which is incompatible.\n",
            "torch 2.6.0+cu124 requires nvidia-curand-cu12==10.3.5.147; platform_system == \"Linux\" and platform_machine == \"x86_64\", but you have nvidia-curand-cu12 10.3.6.82 which is incompatible.\n",
            "torch 2.6.0+cu124 requires nvidia-cusolver-cu12==11.6.1.9; platform_system == \"Linux\" and platform_machine == \"x86_64\", but you have nvidia-cusolver-cu12 11.6.3.83 which is incompatible.\n",
            "torch 2.6.0+cu124 requires nvidia-cusparse-cu12==12.3.1.170; platform_system == \"Linux\" and platform_machine == \"x86_64\", but you have nvidia-cusparse-cu12 12.5.1.3 which is incompatible.\n",
            "torch 2.6.0+cu124 requires nvidia-nvjitlink-cu12==12.4.127; platform_system == \"Linux\" and platform_machine == \"x86_64\", but you have nvidia-nvjitlink-cu12 12.5.82 which is incompatible.\n",
            "numba 0.60.0 requires numpy<2.1,>=1.22, but you have numpy 2.2.5 which is incompatible.\n",
            "langchain-core 0.3.56 requires packaging<25,>=23.2, but you have packaging 25.0 which is incompatible.\n",
            "tensorflow 2.18.0 requires numpy<2.1.0,>=1.26.0, but you have numpy 2.2.5 which is incompatible.\n",
            "spacy 3.8.5 requires thinc<8.4.0,>=8.3.4, but you have thinc 9.1.1 which is incompatible.\u001b[0m\u001b[31m\n",
            "\u001b[0mSuccessfully installed annotated-types-0.7.0 blis-1.0.2 catalogue-2.0.10 confection-0.1.5 cymem-2.0.11 murmurhash-1.0.12 numpy-2.2.5 packaging-25.0 preshed-3.0.9 pydantic-2.11.4 pydantic-core-2.33.2 setuptools-80.4.0 srsly-2.5.1 thinc-9.1.1 typing-extensions-4.13.2 typing-inspection-0.4.0 wasabi-1.1.3\n"
          ]
        },
        {
          "data": {
            "application/vnd.colab-display-data+json": {
              "id": "d757a003c012407e8fc9c15d399ab730",
              "pip_warning": {
                "packages": [
                  "_distutils_hack"
                ]
              }
            }
          },
          "metadata": {},
          "output_type": "display_data"
        }
      ],
      "source": [
        "# Install Tonic: library for event-based vision datasets (N-MNIST)\n",
        "!pip install tonic\n",
        "\n",
        "# Install snnTorch: simplifies building spiking neural networks in PyTorch\n",
        "!pip install snntorch\n",
        "\n",
        "# Force-reinstall thinc and numpy to avoid compatibility issues (especially with snnTorch)\n",
        "# Note that for some reaon this block should bu run twice to solve the dependency conflict\n",
        "!pip install --upgrade --force-reinstall thinc numpy\n"
      ]
    },
    {
      "cell_type": "markdown",
      "source": [
        "Data setup and preprocessing:"
      ],
      "metadata": {
        "id": "XeilyYQ9x2H6"
      }
    },
    {
      "cell_type": "code",
      "execution_count": null,
      "metadata": {
        "id": "o0CX01vONhDA"
      },
      "outputs": [],
      "source": [
        "# Import necessary libraries for dataset handling and preprocessing\n",
        "import tonic\n",
        "import tonic.transforms as transforms\n",
        "from torch.utils.data import DataLoader\n",
        "from tonic import DiskCachedDataset\n",
        "import torch\n",
        "import torchvision\n",
        "\n",
        "# Define parameters for preprocessing\n",
        "filter_time = 8000        # microseconds — filter out isolated events shorter than 8ms\n",
        "time_window = 1500        # microseconds — bin events into frames every 1ms\n",
        "\n",
        "# Load raw N-MNIST dataset (for reference, not used directly here)\n",
        "dataset = tonic.datasets.NMNIST(save_to='./data', train=True)\n",
        "\n",
        "# Get the sensor resolution of the DVS used in N-MNIST\n",
        "sensor_size = tonic.datasets.NMNIST.sensor_size\n",
        "\n",
        "# Set up event preprocessing:\n",
        "# - event_filter: removes isolated spikes\n",
        "# - frame_converter: converts spikes into time-binned frames\n",
        "event_filter = transforms.Denoise(filter_time=filter_time)\n",
        "frame_converter = transforms.ToFrame(sensor_size=sensor_size, time_window=time_window)\n",
        "frame_transform = transforms.Compose([event_filter, frame_converter])\n",
        "\n",
        "# Apply preprocessing to both training and test sets\n",
        "trainset = tonic.datasets.NMNIST(save_to='./tmp/data', transform=frame_transform, train=True)\n",
        "testset = tonic.datasets.NMNIST(save_to='./tmp/data', transform=frame_transform, train=False)\n",
        "\n",
        "# Cache the processed training dataset to avoid repeated transformations\n",
        "cached_trainset = DiskCachedDataset(trainset, cache_path='./cache/nmnist/train')\n",
        "\n",
        "# Load a single sample without batching — useful for debugging or inspection\n",
        "cached_dataloader = DataLoader(cached_trainset)\n",
        "\n",
        "# Set the batch size (128 is most often used for N-MNIST)\n",
        "batch_size = 128\n",
        "\n",
        "# Prepare training DataLoader with padded tensors for uniform batch shapes\n",
        "trainloader = DataLoader(\n",
        "    cached_trainset,\n",
        "    batch_size=batch_size,\n",
        "    collate_fn=tonic.collation.PadTensors()\n",
        ")\n",
        "\n",
        "# Convenience function to retrieve one (unbatched) sample\n",
        "def load_sample_batched():\n",
        "    events, target = next(iter(cached_dataloader))\n",
        "\n",
        "# Define augmentation parameters\n",
        "rotation_range = [-12, 12]  # Rotate frames between -12 and +12 degrees\n",
        "\n",
        "# Define augmentation process for the training set:\n",
        "# - Convert numpy arrays to PyTorch tensors\n",
        "# - Apply random rotation within the defined range\n",
        "train_augmentations = tonic.transforms.Compose([\n",
        "    torch.from_numpy,\n",
        "    torchvision.transforms.RandomRotation(degrees=rotation_range)\n",
        "])\n",
        "\n",
        "# Wrap training dataset with on-the-fly augmentations and caching\n",
        "cached_trainset = DiskCachedDataset(trainset, transform=train_augmentations, cache_path='./cache/nmnist/train')\n",
        "\n",
        "# No augmentation for test set — just cache it for efficiency\n",
        "cached_testset = DiskCachedDataset(testset, cache_path='./cache/nmnist/test')\n",
        "\n",
        "# Define collate function to pad sequences in each batch (not enforcing batch_first)\n",
        "collate_fn = tonic.collation.PadTensors(batch_first=False)\n",
        "\n",
        "# Set up DataLoaders for training and testing\n",
        "trainloader = DataLoader(cached_trainset, batch_size=batch_size, collate_fn=collate_fn, shuffle=True)\n",
        "testloader = DataLoader(cached_testset, batch_size=batch_size, collate_fn=collate_fn)\n"
      ]
    },
    {
      "cell_type": "markdown",
      "metadata": {
        "id": "mBYh1fBGUfxT"
      },
      "source": [
        "Definition of the network architecture:\n",
        "\n"
      ]
    },
    {
      "cell_type": "code",
      "execution_count": null,
      "metadata": {
        "id": "8RbwmeLFPWKV"
      },
      "outputs": [],
      "source": [
        "\n",
        "# Import SNN-related libraries\n",
        "import snntorch as snn\n",
        "from snntorch import functional as SF\n",
        "from snntorch import spikeplot as splt\n",
        "from snntorch import surrogate\n",
        "from snntorch import utils\n",
        "\n",
        "# PyTorch components\n",
        "import torch.nn as nn\n",
        "\n",
        "# Set device based on availability\n",
        "device = torch.device(\"cuda\") if torch.cuda.is_available() else torch.device(\"cpu\")\n",
        "\n",
        "# Define neuron behavior and simulation parameters\n",
        "grad_fn = surrogate.atan()   # Surrogate gradient function for backprop\n",
        "mem_decay = 0.6              # Membrane potential decay rate (increased slightly from typical)\n",
        "\n",
        "\n",
        "# Build the spiking neural network model\n",
        "# Define key architecture parameters\n",
        "input_channels = 2\n",
        "hidden_channels_1 = 12\n",
        "hidden_channels_2 = 32\n",
        "kernel_size = 5\n",
        "pool_size = 2\n",
        "linear_input_dim = hidden_channels_2 * 5 * 5  # after conv + pooling\n",
        "num_classes = 10\n",
        "\n",
        "# Create the spiking neural network using modular components\n",
        "conv_block_1 = nn.Conv2d(in_channels=input_channels, out_channels=hidden_channels_1, kernel_size=kernel_size)\n",
        "snn_block_1 = snn.Leaky(beta=mem_decay, spike_grad=grad_fn, init_hidden=True)\n",
        "\n",
        "conv_block_2 = nn.Conv2d(in_channels=hidden_channels_1, out_channels=hidden_channels_2, kernel_size=kernel_size)\n",
        "snn_block_2 = snn.Leaky(beta=mem_decay, spike_grad=grad_fn, init_hidden=True)\n",
        "\n",
        "snn_output = snn.Leaky(beta=mem_decay, spike_grad=grad_fn, init_hidden=True, output=True)\n",
        "\n",
        "# Assemble the network\n",
        "net = nn.Sequential(\n",
        "    conv_block_1,\n",
        "    snn_block_1,\n",
        "    nn.MaxPool2d(kernel_size=pool_size),\n",
        "\n",
        "    conv_block_2,\n",
        "    snn_block_2,\n",
        "    nn.MaxPool2d(kernel_size=pool_size),\n",
        "\n",
        "    nn.Flatten(),\n",
        "    nn.Linear(linear_input_dim, num_classes),\n",
        "    snn_output\n",
        ").to(device)\n",
        "\n"
      ]
    },
    {
      "cell_type": "markdown",
      "source": [
        "Initializing the Forward Pass:"
      ],
      "metadata": {
        "id": "vfs_-HQpyW9x"
      }
    },
    {
      "cell_type": "code",
      "execution_count": null,
      "metadata": {
        "id": "BB2BzW10Us2P"
      },
      "outputs": [],
      "source": [
        "# Forward pass through the SNN\n",
        "def run_forward(model, input_sequence):\n",
        "    # Initialize list to collect spikes over time\n",
        "    spike_sequence = []\n",
        "\n",
        "    # Reset all neuron states (required for sequential input)\n",
        "    utils.reset(model)\n",
        "\n",
        "    # Simulate each time step in the input sequence\n",
        "    for t in range(input_sequence.shape[0]):\n",
        "        spikes, _ = model(input_sequence[t])  # we ignore the membrane output here\n",
        "        spike_sequence.append(spikes)\n",
        "\n",
        "    # Stack the spikes across time steps into a single tensor\n",
        "    return torch.stack(spike_sequence)\n"
      ]
    },
    {
      "cell_type": "markdown",
      "metadata": {
        "id": "qeiwKhqlX-DH"
      },
      "source": [
        "Training Through Backpropagation with Surrogate Gradient Descent:"
      ]
    },
    {
      "cell_type": "code",
      "execution_count": null,
      "metadata": {
        "colab": {
          "background_save": true,
          "base_uri": "https://localhost:8080/"
        },
        "id": "08gzptrcYAIg",
        "outputId": "82030fd2-4233-494d-94a3-1e179123fc63"
      },
      "outputs": [
        {
          "name": "stdout",
          "output_type": "stream",
          "text": [
            "[Epoch 0 | Batch 0]  Loss = 61.5205   Accuracy = 9.4%\n",
            "[Epoch 0 | Batch 1]  Loss = 61.5809   Accuracy = 10.2%\n",
            "[Epoch 0 | Batch 2]  Loss = 60.9626   Accuracy = 12.5%\n",
            "[Epoch 0 | Batch 3]  Loss = 53.8210   Accuracy = 9.4%\n",
            "[Epoch 0 | Batch 4]  Loss = 44.1518   Accuracy = 8.6%\n",
            "[Epoch 0 | Batch 5]  Loss = 24.7442   Accuracy = 11.7%\n",
            "[Epoch 0 | Batch 6]  Loss = 29.2213   Accuracy = 7.0%\n",
            "[Epoch 0 | Batch 7]  Loss = 34.2970   Accuracy = 11.7%\n",
            "[Epoch 0 | Batch 8]  Loss = 33.3995   Accuracy = 16.4%\n",
            "[Epoch 0 | Batch 9]  Loss = 29.8786   Accuracy = 19.5%\n",
            "[Epoch 0 | Batch 10]  Loss = 27.0214   Accuracy = 15.6%\n",
            "[Epoch 0 | Batch 11]  Loss = 24.4859   Accuracy = 14.1%\n",
            "[Epoch 0 | Batch 12]  Loss = 26.4848   Accuracy = 13.3%\n",
            "[Epoch 0 | Batch 13]  Loss = 27.2899   Accuracy = 21.1%\n",
            "[Epoch 0 | Batch 14]  Loss = 24.5817   Accuracy = 28.9%\n",
            "[Epoch 0 | Batch 15]  Loss = 24.8359   Accuracy = 21.1%\n",
            "[Epoch 0 | Batch 16]  Loss = 24.4913   Accuracy = 26.6%\n",
            "[Epoch 0 | Batch 17]  Loss = 27.2691   Accuracy = 28.1%\n",
            "[Epoch 0 | Batch 18]  Loss = 26.6566   Accuracy = 20.3%\n",
            "[Epoch 0 | Batch 19]  Loss = 26.1708   Accuracy = 25.8%\n",
            "[Epoch 0 | Batch 20]  Loss = 25.8407   Accuracy = 21.1%\n",
            "[Epoch 0 | Batch 21]  Loss = 23.5341   Accuracy = 31.2%\n",
            "[Epoch 0 | Batch 22]  Loss = 24.6674   Accuracy = 18.8%\n",
            "[Epoch 0 | Batch 23]  Loss = 23.9955   Accuracy = 30.5%\n",
            "[Epoch 0 | Batch 24]  Loss = 23.1797   Accuracy = 25.0%\n",
            "[Epoch 0 | Batch 25]  Loss = 23.5018   Accuracy = 31.2%\n",
            "[Epoch 0 | Batch 26]  Loss = 23.8353   Accuracy = 28.9%\n",
            "[Epoch 0 | Batch 27]  Loss = 23.5447   Accuracy = 30.5%\n",
            "[Epoch 0 | Batch 28]  Loss = 23.3549   Accuracy = 36.7%\n",
            "[Epoch 0 | Batch 29]  Loss = 24.0132   Accuracy = 32.0%\n",
            "[Epoch 0 | Batch 30]  Loss = 22.8668   Accuracy = 30.5%\n",
            "[Epoch 0 | Batch 31]  Loss = 23.0461   Accuracy = 35.9%\n",
            "[Epoch 0 | Batch 32]  Loss = 22.1436   Accuracy = 25.0%\n",
            "[Epoch 0 | Batch 33]  Loss = 21.5074   Accuracy = 26.6%\n",
            "[Epoch 0 | Batch 34]  Loss = 21.6214   Accuracy = 31.2%\n",
            "[Epoch 0 | Batch 35]  Loss = 21.8796   Accuracy = 28.9%\n",
            "[Epoch 0 | Batch 36]  Loss = 19.8092   Accuracy = 46.1%\n",
            "[Epoch 0 | Batch 37]  Loss = 19.7634   Accuracy = 43.0%\n",
            "[Epoch 0 | Batch 38]  Loss = 20.5601   Accuracy = 49.2%\n",
            "[Epoch 0 | Batch 39]  Loss = 21.0782   Accuracy = 45.3%\n",
            "[Epoch 0 | Batch 40]  Loss = 19.6067   Accuracy = 39.1%\n",
            "[Epoch 0 | Batch 41]  Loss = 19.4981   Accuracy = 45.3%\n",
            "[Epoch 0 | Batch 42]  Loss = 19.6931   Accuracy = 43.0%\n",
            "[Epoch 0 | Batch 43]  Loss = 19.1859   Accuracy = 46.9%\n",
            "[Epoch 0 | Batch 44]  Loss = 18.4981   Accuracy = 43.0%\n",
            "[Epoch 0 | Batch 45]  Loss = 18.0839   Accuracy = 53.9%\n",
            "[Epoch 0 | Batch 46]  Loss = 17.3315   Accuracy = 52.3%\n",
            "[Epoch 0 | Batch 47]  Loss = 17.8587   Accuracy = 45.3%\n",
            "[Epoch 0 | Batch 48]  Loss = 17.9227   Accuracy = 47.7%\n",
            "[Epoch 0 | Batch 49]  Loss = 18.1344   Accuracy = 46.1%\n",
            "[Epoch 0 | Batch 50]  Loss = 18.3064   Accuracy = 45.3%\n",
            "[Epoch 0 | Batch 51]  Loss = 17.5769   Accuracy = 48.4%\n",
            "[Epoch 0 | Batch 52]  Loss = 17.2732   Accuracy = 50.0%\n",
            "[Epoch 0 | Batch 53]  Loss = 16.6476   Accuracy = 57.8%\n",
            "[Epoch 0 | Batch 54]  Loss = 16.2448   Accuracy = 58.6%\n",
            "[Epoch 0 | Batch 55]  Loss = 16.6162   Accuracy = 49.2%\n",
            "[Epoch 0 | Batch 56]  Loss = 24.6001   Accuracy = 31.2%\n",
            "[Epoch 0 | Batch 57]  Loss = 18.6736   Accuracy = 42.2%\n",
            "[Epoch 0 | Batch 58]  Loss = 18.6985   Accuracy = 42.2%\n",
            "[Epoch 0 | Batch 59]  Loss = 22.5141   Accuracy = 26.6%\n",
            "[Epoch 0 | Batch 60]  Loss = 21.3134   Accuracy = 28.9%\n",
            "[Epoch 0 | Batch 61]  Loss = 23.5501   Accuracy = 33.6%\n",
            "[Epoch 0 | Batch 62]  Loss = 18.3624   Accuracy = 39.1%\n",
            "[Epoch 0 | Batch 63]  Loss = 17.7769   Accuracy = 50.0%\n",
            "[Epoch 0 | Batch 64]  Loss = 15.7233   Accuracy = 60.2%\n",
            "[Epoch 0 | Batch 65]  Loss = 16.8249   Accuracy = 55.5%\n",
            "[Epoch 0 | Batch 66]  Loss = 16.7930   Accuracy = 54.7%\n",
            "[Epoch 0 | Batch 67]  Loss = 20.3884   Accuracy = 41.4%\n",
            "[Epoch 0 | Batch 68]  Loss = 19.0810   Accuracy = 42.2%\n",
            "[Epoch 0 | Batch 69]  Loss = 16.2817   Accuracy = 53.9%\n",
            "[Epoch 0 | Batch 70]  Loss = 17.7470   Accuracy = 55.5%\n",
            "[Epoch 0 | Batch 71]  Loss = 16.4302   Accuracy = 62.5%\n",
            "[Epoch 0 | Batch 72]  Loss = 14.3706   Accuracy = 68.8%\n",
            "[Epoch 0 | Batch 73]  Loss = 14.9096   Accuracy = 58.6%\n",
            "[Epoch 0 | Batch 74]  Loss = 14.5816   Accuracy = 55.5%\n",
            "[Epoch 0 | Batch 75]  Loss = 14.5811   Accuracy = 68.0%\n",
            "[Epoch 0 | Batch 76]  Loss = 15.0511   Accuracy = 67.2%\n",
            "[Epoch 0 | Batch 77]  Loss = 15.0417   Accuracy = 64.8%\n",
            "[Epoch 0 | Batch 78]  Loss = 15.4877   Accuracy = 59.4%\n",
            "[Epoch 0 | Batch 79]  Loss = 13.9654   Accuracy = 67.2%\n",
            "[Epoch 0 | Batch 80]  Loss = 14.1474   Accuracy = 69.5%\n",
            "[Epoch 0 | Batch 81]  Loss = 13.8531   Accuracy = 72.7%\n",
            "[Epoch 0 | Batch 82]  Loss = 14.4874   Accuracy = 64.8%\n",
            "[Epoch 0 | Batch 83]  Loss = 14.2440   Accuracy = 66.4%\n",
            "[Epoch 0 | Batch 84]  Loss = 14.2046   Accuracy = 67.2%\n",
            "[Epoch 0 | Batch 85]  Loss = 13.6749   Accuracy = 68.8%\n",
            "[Epoch 0 | Batch 86]  Loss = 14.2024   Accuracy = 64.8%\n",
            "[Epoch 0 | Batch 87]  Loss = 13.8573   Accuracy = 65.6%\n",
            "[Epoch 0 | Batch 88]  Loss = 13.4499   Accuracy = 70.3%\n",
            "[Epoch 0 | Batch 89]  Loss = 12.3029   Accuracy = 80.5%\n",
            "[Epoch 0 | Batch 90]  Loss = 13.2309   Accuracy = 70.3%\n",
            "[Epoch 0 | Batch 91]  Loss = 13.6058   Accuracy = 68.0%\n",
            "[Epoch 0 | Batch 92]  Loss = 13.5435   Accuracy = 65.6%\n",
            "[Epoch 0 | Batch 93]  Loss = 12.5468   Accuracy = 74.2%\n",
            "[Epoch 0 | Batch 94]  Loss = 13.9278   Accuracy = 67.2%\n",
            "[Epoch 0 | Batch 95]  Loss = 12.8849   Accuracy = 76.6%\n",
            "[Epoch 0 | Batch 96]  Loss = 12.8262   Accuracy = 68.8%\n",
            "[Epoch 0 | Batch 97]  Loss = 12.4581   Accuracy = 74.2%\n",
            "[Epoch 0 | Batch 98]  Loss = 13.2879   Accuracy = 68.8%\n",
            "[Epoch 0 | Batch 99]  Loss = 12.2132   Accuracy = 75.8%\n",
            "[Epoch 0 | Batch 100]  Loss = 12.5784   Accuracy = 71.9%\n"
          ]
        }
      ],
      "source": [
        "# Define training hyperparameters\n",
        "learning_rate = 0.02\n",
        "betas = (0.9, 0.999)\n",
        "num_epochs = 1\n",
        "max_batches_per_epoch = 100  # Early stopping for sensitivity analysis\n",
        "\n",
        "# Initialize optimizer and loss function\n",
        "optimizer = torch.optim.Adam(net.parameters(), lr=learning_rate, betas=betas)\n",
        "loss_function = SF.mse_count_loss(correct_rate=0.8, incorrect_rate=0.2)\n",
        "\n",
        "# Containers to track loss and accuracy over time\n",
        "loss_history = []\n",
        "accuracy_history = []\n",
        "\n",
        "# Begin training loop\n",
        "for epoch in range(num_epochs):\n",
        "    for batch_num, (inputs, labels) in enumerate(trainloader):\n",
        "        inputs = inputs.to(device)\n",
        "        labels = labels.to(device)\n",
        "\n",
        "        # Set model to training mode and run forward pass\n",
        "        net.train()\n",
        "        spike_output = run_forward(net, inputs)\n",
        "        loss = loss_function(spike_output, labels)\n",
        "\n",
        "        # Backpropagation and optimization step\n",
        "        optimizer.zero_grad()\n",
        "        loss.backward()\n",
        "        optimizer.step()\n",
        "\n",
        "        # Record training metrics\n",
        "        loss_history.append(loss.item())\n",
        "        accuracy = SF.accuracy_rate(spike_output, labels)\n",
        "        accuracy_history.append(accuracy)\n",
        "\n",
        "        # Output training progress\n",
        "        print(f\"[Epoch {epoch} | Batch {batch_num}]  Loss = {loss.item():.4f}   Accuracy = {accuracy * 100:.1f}%\")\n",
        "\n",
        "        # Optionally limit training to a fixed number of batches per epoch\n",
        "        if batch_num == max_batches_per_epoch:\n",
        "            break"
      ]
    },
    {
      "cell_type": "markdown",
      "source": [
        "Visualization of the training process:"
      ],
      "metadata": {
        "id": "R19HfbL6y-Uv"
      }
    },
    {
      "cell_type": "code",
      "execution_count": null,
      "metadata": {
        "colab": {
          "base_uri": "https://localhost:8080/",
          "height": 507
        },
        "id": "107cb645-0227-4290-9e1b-25d6ae7eac87",
        "outputId": "902899a0-4daf-4abd-e99e-dc53a43bc63e"
      },
      "outputs": [
        {
          "data": {
            "image/png": "[encoded data removed]",
            "text/plain": [
              "<Figure size 1400x500 with 2 Axes>"
            ]
          },
          "metadata": {},
          "output_type": "display_data"
        }
      ],
      "source": [
        "import matplotlib.pyplot as plt\n",
        "import seaborn as sns\n",
        "\n",
        "# Style\n",
        "plt.style.use(\"seaborn-v0_8-whitegrid\")\n",
        "\n",
        "# Convert accuracy to percentage\n",
        "acc_percent = [a * 100 for a in accuracy_history]\n",
        "\n",
        "# Plot\n",
        "fig, (ax1, ax2) = plt.subplots(1, 2, figsize=(14, 5), facecolor=\"w\")\n",
        "\n",
        "# Accuracy plot (in %)\n",
        "ax1.plot(acc_percent[1:], marker='o', markersize=3, linewidth=2, color=\"#a8c7e5\")\n",
        "ax1.set_title(\"Training Accuracy\", fontsize=14)\n",
        "ax1.set_xlabel(\"Iteration\", fontsize=12)\n",
        "ax1.set_ylabel(\"Accuracy [%]\", fontsize=12)\n",
        "ax1.grid(True)\n",
        "\n",
        "# Loss plot\n",
        "ax2.plot(loss_history[1:], marker='s', markersize=3, linewidth=2, color=\"#f3a5a6\")\n",
        "ax2.set_title(\"Training Loss\", fontsize=14)\n",
        "ax2.set_xlabel(\"Iteration\", fontsize=12)\n",
        "ax2.set_ylabel(\"Loss [-]\", fontsize=12)\n",
        "ax2.grid(True)\n",
        "\n",
        "plt.tight_layout()\n",
        "plt.show()\n",
        "#Learning rate colors\n",
        "#\"#1f77b4\"\n",
        "#\"#d62728\"\n",
        "#Decay rate colors\n",
        "##155a8a\n",
        "##a61b1c\n",
        "#Time Window Colors\n"
      ]
    },
    {
      "cell_type": "markdown",
      "source": [
        "Testing of the Trained Network:"
      ],
      "metadata": {
        "id": "0GQ2AKFjzDU8"
      }
    },
    {
      "cell_type": "code",
      "execution_count": 1,
      "metadata": {
        "colab": {
          "base_uri": "https://localhost:8080/",
          "height": 219
        },
        "id": "mvKitfxchY-D",
        "outputId": "fab72929-214e-4048-a6e7-2e5f2b6a8235"
      },
      "outputs": [
        {
          "output_type": "error",
          "ename": "NameError",
          "evalue": "name 'net' is not defined",
          "traceback": [
            "\u001b[0;31m---------------------------------------------------------------------------\u001b[0m",
            "\u001b[0;31mNameError\u001b[0m                                 Traceback (most recent call last)",
            "\u001b[0;32m<ipython-input-1-05a777e08d39>\u001b[0m in \u001b[0;36m<cell line: 0>\u001b[0;34m()\u001b[0m\n\u001b[0;32m----> 1\u001b[0;31m \u001b[0mnet\u001b[0m\u001b[0;34m.\u001b[0m\u001b[0meval\u001b[0m\u001b[0;34m(\u001b[0m\u001b[0;34m)\u001b[0m\u001b[0;34m\u001b[0m\u001b[0;34m\u001b[0m\u001b[0m\n\u001b[0m\u001b[1;32m      2\u001b[0m \u001b[0;32mwith\u001b[0m \u001b[0mtorch\u001b[0m\u001b[0;34m.\u001b[0m\u001b[0mno_grad\u001b[0m\u001b[0;34m(\u001b[0m\u001b[0;34m)\u001b[0m\u001b[0;34m:\u001b[0m\u001b[0;34m\u001b[0m\u001b[0;34m\u001b[0m\u001b[0m\n\u001b[1;32m      3\u001b[0m     \u001b[0mtest_acc\u001b[0m \u001b[0;34m=\u001b[0m \u001b[0;34m[\u001b[0m\u001b[0;34m]\u001b[0m\u001b[0;34m\u001b[0m\u001b[0;34m\u001b[0m\u001b[0m\n\u001b[1;32m      4\u001b[0m     \u001b[0;32mfor\u001b[0m \u001b[0mdata\u001b[0m\u001b[0;34m,\u001b[0m \u001b[0mtargets\u001b[0m \u001b[0;32min\u001b[0m \u001b[0mtestloader\u001b[0m\u001b[0;34m:\u001b[0m\u001b[0;34m\u001b[0m\u001b[0;34m\u001b[0m\u001b[0m\n\u001b[1;32m      5\u001b[0m         \u001b[0mdata\u001b[0m \u001b[0;34m=\u001b[0m \u001b[0mdata\u001b[0m\u001b[0;34m.\u001b[0m\u001b[0mto\u001b[0m\u001b[0;34m(\u001b[0m\u001b[0mdevice\u001b[0m\u001b[0;34m)\u001b[0m\u001b[0;34m\u001b[0m\u001b[0;34m\u001b[0m\u001b[0m\n",
            "\u001b[0;31mNameError\u001b[0m: name 'net' is not defined"
          ]
        }
      ],
      "source": [
        "net.eval()\n",
        "with torch.no_grad():\n",
        "    test_acc = []\n",
        "    for data, targets in testloader:\n",
        "        data = data.to(device)\n",
        "        targets = targets.to(device)\n",
        "        spk_rec = run_forward(net, data)\n",
        "        acc = SF.accuracy_rate(spk_rec, targets)\n",
        "        test_acc.append(acc)\n",
        "\n",
        "    avg_test_acc = sum(test_acc) / len(test_acc)\n",
        "    print(f\"Test Accuracy: {avg_test_acc * 100:.2f}%\")\n"
      ]
    }
  ],
  "metadata": {
    "accelerator": "GPU",
    "colab": {
      "gpuType": "T4",
      "provenance": [],
      "authorship_tag": "ABX9TyOdRxEOYHUcr37d9whVJvZY",
      "include_colab_link": true
    },
    "kernelspec": {
      "display_name": "Python 3",
      "name": "python3"
    },
    "language_info": {
      "name": "python"
    }
  },
  "nbformat": 4,
  "nbformat_minor": 0
}